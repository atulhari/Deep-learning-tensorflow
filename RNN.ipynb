{
 "cells": [
  {
   "cell_type": "markdown",
   "id": "ce10df52",
   "metadata": {},
   "source": [
    "## Part 2: Music generation with RNNs\n",
    "\n",
    "We will generate music using Reccurrent Neural Network (RNN). We will train a model to learn the patterns in the raw sheet music in ABC Notation and then use this model to generate new music."
   ]
  },
  {
   "cell_type": "code",
   "execution_count": null,
   "id": "d0316c27",
   "metadata": {},
   "outputs": [],
   "source": []
  }
 ],
 "metadata": {
  "kernelspec": {
   "display_name": "Python 3 (ipykernel)",
   "language": "python",
   "name": "python3"
  },
  "language_info": {
   "codemirror_mode": {
    "name": "ipython",
    "version": 3
   },
   "file_extension": ".py",
   "mimetype": "text/x-python",
   "name": "python",
   "nbconvert_exporter": "python",
   "pygments_lexer": "ipython3",
   "version": "3.8.10"
  }
 },
 "nbformat": 4,
 "nbformat_minor": 5
}
