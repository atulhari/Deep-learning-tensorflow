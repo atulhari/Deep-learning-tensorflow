{
 "cells": [
  {
   "cell_type": "markdown",
   "id": "91593564",
   "metadata": {},
   "source": [
    "## Part 2: Music generation with RNNs\n",
    "\n",
    "We will generate music using Reccurrent Neural Network (RNN). We will train a model to learn the patterns in the raw sheet music in ABC Notation and then use this model to generate new music."
   ]
  },
  {
   "cell_type": "markdown",
   "id": "c82aa9e8",
   "metadata": {},
   "source": [
    "### 2.1 Dependecies"
   ]
  },
  {
   "cell_type": "code",
   "execution_count": 6,
   "id": "687842b7",
   "metadata": {},
   "outputs": [
    {
     "name": "stdout",
     "output_type": "stream",
     "text": [
      "Defaulting to user installation because normal site-packages is not writeable\n",
      "Requirement already satisfied: mitdeeplearning in /home/atul/.local/lib/python3.8/site-packages (0.3.0)\n",
      "Requirement already satisfied: numpy in /home/atul/.local/lib/python3.8/site-packages (from mitdeeplearning) (1.23.2)\n",
      "Requirement already satisfied: regex in /home/atul/.local/lib/python3.8/site-packages (from mitdeeplearning) (2023.5.4)\n",
      "Requirement already satisfied: tqdm in /home/atul/.local/lib/python3.8/site-packages (from mitdeeplearning) (4.64.1)\n",
      "Requirement already satisfied: gym in /home/atul/.local/lib/python3.8/site-packages (from mitdeeplearning) (0.26.2)\n",
      "Requirement already satisfied: cloudpickle>=1.2.0 in /home/atul/.local/lib/python3.8/site-packages (from gym->mitdeeplearning) (2.2.0)\n",
      "Requirement already satisfied: gym-notices>=0.0.4 in /home/atul/.local/lib/python3.8/site-packages (from gym->mitdeeplearning) (0.0.8)\n",
      "Requirement already satisfied: importlib-metadata>=4.8.0 in /home/atul/.local/lib/python3.8/site-packages (from gym->mitdeeplearning) (4.11.3)\n",
      "Requirement already satisfied: zipp>=0.5 in /home/atul/.local/lib/python3.8/site-packages (from importlib-metadata>=4.8.0->gym->mitdeeplearning) (3.7.0)\n",
      "\n",
      "\u001b[1m[\u001b[0m\u001b[34;49mnotice\u001b[0m\u001b[1;39;49m]\u001b[0m\u001b[39;49m A new release of pip is available: \u001b[0m\u001b[31;49m23.1\u001b[0m\u001b[39;49m -> \u001b[0m\u001b[32;49m23.1.2\u001b[0m\n",
      "\u001b[1m[\u001b[0m\u001b[34;49mnotice\u001b[0m\u001b[1;39;49m]\u001b[0m\u001b[39;49m To update, run: \u001b[0m\u001b[32;49mpython -m pip install --upgrade pip\u001b[0m\n"
     ]
    }
   ],
   "source": [
    "# Import Tensorflow 2.0\n",
    "# %tensorflow_version 2.x\n",
    "import tensorflow as tf \n",
    "\n",
    "# Download and import the MIT Introduction to Deep Learning package\n",
    "!pip install mitdeeplearning\n",
    "import mitdeeplearning as mdl\n",
    "\n",
    "# Import all remaining packages\n",
    "import numpy as np\n",
    "import os\n",
    "import time\n",
    "import functools\n",
    "from IPython import display as ipythondisplay\n",
    "from tqdm import tqdm\n",
    "!apt-get install abcmidi timidity > /dev/null 2>&1\n",
    "\n",
    "# Check that we are using a GPU, if not switch runtimes\n",
    "#   using Runtime > Change Runtime Type > GPU\n",
    "# assert len(tf.config.list_physical_devices('GPU')) > 0"
   ]
  },
  {
   "cell_type": "markdown",
   "id": "6b8fd7c2",
   "metadata": {},
   "source": [
    "### 2.2 Dataset\n",
    "We will use a dataset of thousand Irish folk songs collected by MIT, represented in the ABC notation.\n",
    "We will start by donwloading the dataset and inspecting it."
   ]
  },
  {
   "cell_type": "code",
   "execution_count": 22,
   "id": "c1939cc1",
   "metadata": {},
   "outputs": [
    {
     "name": "stdout",
     "output_type": "stream",
     "text": [
      "Found 817 songs in text\n",
      "\n",
      "Example song:\n",
      "X:2\n",
      "T:An Buachaill Dreoite\n",
      "Z: id:dc-hornpipe-2\n",
      "M:C|\n",
      "L:1/8\n",
      "K:G Major\n",
      "GF|DGGB d2GB|d2GF Gc (3AGF|DGGB d2GB|dBcA F2GF|!\n",
      "DGGB d2GF|DGGF G2Ge|fgaf gbag|fdcA G2:|!\n",
      "GA|B2BG c2cA|d2GF G2GA|B2BG c2cA|d2DE F2GA|!\n",
      "B2BG c2cA|d^cde f2 (3def|g2gf gbag|fdcA G2:|!\n"
     ]
    }
   ],
   "source": [
    "# Download the dataset\n",
    "songs = mdl.lab1.load_training_data()\n",
    "\n",
    "# Print one of the somgs to inspect it in great detail.\n",
    "example_song = songs[1]\n",
    "print(\"\\nExample song:\")\n",
    "print(example_song)"
   ]
  },
  {
   "cell_type": "markdown",
   "id": "d0157fba",
   "metadata": {},
   "source": [
    "We can convert the ABC notation to an audio file and then play it back."
   ]
  },
  {
   "cell_type": "code",
   "execution_count": null,
   "id": "997d0996",
   "metadata": {},
   "outputs": [],
   "source": [
    "# Convert the ABC notation to audio file and listen to it.\n",
    "mdl.lab1.play_song(example_song)"
   ]
  },
  {
   "cell_type": "markdown",
   "id": "79ccea21",
   "metadata": {},
   "source": [
    "One important think about the notation of the music does not simply contain information on the notes being played, but additionally there is meta information such as the somg title, ker, and tempo. \n",
    "\n",
    "How does the number of different characters that are present in the text file impact the complexity of learning problem.\n",
    "\n",
    "This will become important soon, when we generate a numerical representation of the text data."
   ]
  },
  {
   "cell_type": "code",
   "execution_count": 34,
   "id": "5e361c2c",
   "metadata": {},
   "outputs": [
    {
     "name": "stdout",
     "output_type": "stream",
     "text": [
      "There are 83 unique characters in the dataset\n"
     ]
    }
   ],
   "source": [
    "# Lets join the list of songs into a single string containing all songs\n",
    "songs_joined = \"\\n\\n\".join(songs)\n",
    "\n",
    "# Find all unique characters in the joined string\n",
    "vocab = sorted(set(songs_joined))\n",
    "print(\"There are\", len(vocab), \"unique characters in the dataset\")\n"
   ]
  },
  {
   "cell_type": "code",
   "execution_count": null,
   "id": "9b420a47",
   "metadata": {},
   "outputs": [],
   "source": []
  }
 ],
 "metadata": {
  "kernelspec": {
   "display_name": "Python 3 (ipykernel)",
   "language": "python",
   "name": "python3"
  },
  "language_info": {
   "codemirror_mode": {
    "name": "ipython",
    "version": 3
   },
   "file_extension": ".py",
   "mimetype": "text/x-python",
   "name": "python",
   "nbconvert_exporter": "python",
   "pygments_lexer": "ipython3",
   "version": "3.8.10"
  }
 },
 "nbformat": 4,
 "nbformat_minor": 5
}
