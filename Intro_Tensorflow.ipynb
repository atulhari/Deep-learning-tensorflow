{
  "cells": [
    {
      "cell_type": "markdown",
      "metadata": {
        "id": "view-in-github",
        "colab_type": "text"
      },
      "source": [
        "<a href=\"https://colab.research.google.com/github/atulhari/Deep-learning-tensorflow/blob/main/Intro_Tensorflow.ipynb\" target=\"_parent\"><img src=\"https://colab.research.google.com/assets/colab-badge.svg\" alt=\"Open In Colab\"/></a>"
      ]
    },
    {
      "cell_type": "markdown",
      "id": "4a6efbee",
      "metadata": {
        "id": "4a6efbee"
      },
      "source": [
        "# Part1: Into to Tensorflow\n",
        "Tensorflow is an extensively used machine learning software library developed by Google Brain team. The tool was initially used for internal research and production at Google and was released in 2015 with a Apache License 2.0."
      ]
    },
    {
      "cell_type": "markdown",
      "id": "39038713",
      "metadata": {
        "id": "39038713"
      },
      "source": [
        "In this part we will introduce the fundamentals of tensorflow, explain how computations are represented and how to define a simple neural network."
      ]
    },
    {
      "cell_type": "code",
      "execution_count": null,
      "id": "10551acf",
      "metadata": {
        "id": "10551acf"
      },
      "outputs": [],
      "source": [
        "import tensorflow as tf\n",
        "import numpy as np\n",
        "import matplotlib.pyplot as plt"
      ]
    },
    {
      "cell_type": "code",
      "execution_count": null,
      "id": "26044603",
      "metadata": {
        "id": "26044603",
        "outputId": "e7333d34-9593-4d66-e71d-59cecc219cd3"
      },
      "outputs": [
        {
          "data": {
            "text/plain": [
              "'2.9.1'"
            ]
          },
          "execution_count": 23,
          "metadata": {},
          "output_type": "execute_result"
        }
      ],
      "source": [
        "tf.__version__"
      ]
    },
    {
      "cell_type": "markdown",
      "id": "f2858ba2",
      "metadata": {
        "id": "f2858ba2"
      },
      "source": [
        "## 1.1 Why is TensorFlow called TensorFlow?\n",
        "\n",
        "TensorFlow is called 'TensorFlow' because it handles the flow (node/mathematical operation) of Tensors, which are data structures that you can think of as multi-dimensional arrays. Tensors are represented as n-dimensional arrays of base dataypes such as a string or integer -- they provide a way to generalize vectors and matrices to higher dimensions.\n",
        "\n",
        "The ```shape``` of a Tensor defines its number of dimensions and the size of each dimension. The ```rank``` of a Tensor provides the number of dimensions (n-dimensions) -- you can also think of this as the Tensor's order or degree.\n",
        "\n",
        "Let's first look at 0-d Tensors, of which a scalar is an example:"
      ]
    },
    {
      "cell_type": "code",
      "execution_count": null,
      "id": "ffd0327c",
      "metadata": {
        "id": "ffd0327c",
        "outputId": "101972c9-4271-48f3-9f5f-7617c9e01b0a"
      },
      "outputs": [
        {
          "name": "stdout",
          "output_type": "stream",
          "text": [
            "`sport` is a 0-d Tensor\n",
            "`number` is a 0-d Tensor\n"
          ]
        }
      ],
      "source": [
        "sport = tf.constant(\"Tennis\", tf.string)\n",
        "number = tf.constant(1.41421356237, tf.float64)\n",
        "\n",
        "print(\"`sport` is a {}-d Tensor\".format(tf.rank(sport).numpy()))\n",
        "print(\"`number` is a {}-d Tensor\".format(tf.rank(number).numpy()))"
      ]
    },
    {
      "cell_type": "markdown",
      "id": "41946eee",
      "metadata": {
        "id": "41946eee"
      },
      "source": [
        "1-d Tesnors are created using vecotrs and lists"
      ]
    },
    {
      "cell_type": "code",
      "execution_count": null,
      "id": "7f70439f",
      "metadata": {
        "id": "7f70439f",
        "outputId": "c61c32ce-d3a9-4fc6-dd58-7cc227fa0848"
      },
      "outputs": [
        {
          "name": "stdout",
          "output_type": "stream",
          "text": [
            "`sports` is a 1-d Tensor with shape [2]\n",
            "`numbers` is a 1-d Tensor with shape [3]\n"
          ]
        }
      ],
      "source": [
        "sports = tf.constant([\"Tennis\",\"Basketball\"],  tf.string)\n",
        "numbers = tf.constant([3.141592, 1.41421356237, 2.71821], tf.float64)\n",
        "\n",
        "print(\"`sports` is a {}-d Tensor with shape {}\".format(tf.rank(sports).numpy(), tf.shape(sports)))\n",
        "print(\"`numbers` is a {}-d Tensor with shape {}\".format(tf.rank(numbers).numpy(), tf.shape(numbers)))"
      ]
    },
    {
      "cell_type": "markdown",
      "id": "b0e46924",
      "metadata": {
        "id": "b0e46924"
      },
      "source": [
        "For images we will need higher-rank tensors like 2d. Or even 4d tensors which include for example number of images, image height, image width and number of color channels"
      ]
    },
    {
      "cell_type": "code",
      "execution_count": null,
      "id": "74bc0e31",
      "metadata": {
        "id": "74bc0e31",
        "outputId": "69cac5f9-d386-4c92-d89e-15cbae1dca02"
      },
      "outputs": [
        {
          "name": "stdout",
          "output_type": "stream",
          "text": [
            "matrix is a 2-d Tensor with shape [2 3]\n"
          ]
        }
      ],
      "source": [
        "matrix = tf.constant([[1,2,3],[4,5,6]], tf.float64)\n",
        "assert isinstance(matrix, tf.Tensor), \"Matrix must be a tf Tensor object\"\n",
        "assert tf.rank(matrix).numpy() == 2\n",
        "print(\"matrix is a {}-d Tensor with shape {}\".format(tf.rank(matrix).numpy(),tf.shape(matrix)))"
      ]
    },
    {
      "cell_type": "markdown",
      "id": "7cd1fea6",
      "metadata": {
        "id": "7cd1fea6"
      },
      "source": [
        "Lets create a 4d Tensor which contains the number of images, image width, image height and color channels.\n",
        "If there are 10 images which are 256x256 rgb image, this would be as follows."
      ]
    },
    {
      "cell_type": "code",
      "execution_count": null,
      "id": "8524e05e",
      "metadata": {
        "id": "8524e05e"
      },
      "outputs": [],
      "source": [
        "images = tf.zeros([10,256,256,3])\n",
        "assert isinstance(images, tf.Tensor), \"The Matrix should be tf Tensor object\"\n",
        "assert tf.rank(images).numpy() == 4, \"Matrix should have a rank 4\"\n",
        "assert tf.shape(images).numpy().tolist() == [10,256,256,3], \"Matrix shape is incorrect\""
      ]
    },
    {
      "cell_type": "markdown",
      "id": "08850ae5",
      "metadata": {
        "id": "08850ae5"
      },
      "source": [
        "Its clear that the shape of the tensor gives the number of elements in each tensor dimension which makes it really usefull."
      ]
    },
    {
      "cell_type": "markdown",
      "id": "b6aa0b69",
      "metadata": {
        "id": "b6aa0b69"
      },
      "source": [
        "We can also use slicing to access tensors with higher-rank."
      ]
    },
    {
      "cell_type": "code",
      "execution_count": null,
      "id": "d3b3aa53",
      "metadata": {
        "id": "d3b3aa53",
        "outputId": "f2203e9c-541b-4b4a-80ca-522f8467fd14"
      },
      "outputs": [
        {
          "name": "stdout",
          "output_type": "stream",
          "text": [
            "row _vector: [4. 5. 6.]\n",
            "column_vector: [2. 5.]\n",
            "scalar: 2.0\n"
          ]
        }
      ],
      "source": [
        "row_vector = matrix[1]\n",
        "column_vector = matrix[:,1]\n",
        "scalar = matrix[0,1]\n",
        "\n",
        "print(\"row _vector: {}\".format(row_vector.numpy()))\n",
        "print(\"column_vector: {}\".format(column_vector.numpy()))\n",
        "print(\"scalar: {}\".format(scalar.numpy()))"
      ]
    },
    {
      "cell_type": "markdown",
      "id": "27684aaa",
      "metadata": {
        "id": "27684aaa"
      },
      "source": [
        "## 1.2 Computations on Tensors\n",
        "\n",
        "A good way to visualize computations in tensorflow is in terms of graphs. We define graphs as Tensors which holds the data and mathematical operations. Lets look at a simple example.\n",
        "![image.png](attachment:image.png)\n"
      ]
    },
    {
      "cell_type": "code",
      "execution_count": null,
      "id": "f6cb3c98",
      "metadata": {
        "scrolled": true,
        "id": "f6cb3c98",
        "outputId": "85926c2b-9438-440c-b30c-b31af6d1980b"
      },
      "outputs": [
        {
          "name": "stdout",
          "output_type": "stream",
          "text": [
            "tf.Tensor(3, shape=(), dtype=int32)\n",
            "tf.Tensor(3, shape=(), dtype=int32)\n"
          ]
        }
      ],
      "source": [
        "# create nodes of the graph and initialize them with data\n",
        "a = tf.constant(1)\n",
        "b = tf.constant(2)\n",
        "\n",
        "# Perform addition operation\n",
        "c1 = tf.add(a,b)\n",
        "c2 = a + b # TensorFlow will override the \"+\" operation so that it will be able to act on Tensors\n",
        "print(c1)\n",
        "print(c2)"
      ]
    },
    {
      "cell_type": "markdown",
      "id": "ef0d21fe",
      "metadata": {
        "id": "ef0d21fe"
      },
      "source": [
        "Lets consider a bit more complicated graph now.\n",
        "![image.png](attachment:image.png)"
      ]
    },
    {
      "cell_type": "code",
      "execution_count": null,
      "id": "4f0b5933",
      "metadata": {
        "id": "4f0b5933"
      },
      "outputs": [],
      "source": [
        "# Create nodes\n",
        "def func(a,b):\n",
        "    c = tf.add(a,b)\n",
        "    d = tf.subtract(b,1)\n",
        "    e = tf.multiply(c,d)\n",
        "    return e\n"
      ]
    },
    {
      "cell_type": "markdown",
      "id": "3115d8b7",
      "metadata": {
        "id": "3115d8b7"
      },
      "source": [
        "Now we can use the function func to compute the above graph for any given inputs a,b."
      ]
    },
    {
      "cell_type": "code",
      "execution_count": null,
      "id": "821f2182",
      "metadata": {
        "id": "821f2182",
        "outputId": "a21ceefe-fb73-49ac-999d-e7a31b2829a3"
      },
      "outputs": [
        {
          "name": "stdout",
          "output_type": "stream",
          "text": [
            "tf.Tensor(6.0, shape=(), dtype=float32)\n"
          ]
        }
      ],
      "source": [
        "a, b =1.5, 2.5\n",
        "e_out = func(a,b)\n",
        "print(e_out)"
      ]
    },
    {
      "cell_type": "markdown",
      "id": "7a65b02d",
      "metadata": {
        "id": "7a65b02d"
      },
      "source": [
        "Its good to note that thet Tensor has no shape, as it is a single scalar value."
      ]
    },
    {
      "cell_type": "markdown",
      "id": "c3864c6a",
      "metadata": {
        "id": "c3864c6a"
      },
      "source": [
        "## 1.3 Neural networks in TensorFlow\n",
        "Neural networks can be defined in TensorFlow, which uses a high-level API called Keras that provides a powerful and intuitive framework for building and training deep learning models.\n"
      ]
    },
    {
      "cell_type": "markdown",
      "id": "1894ebcd",
      "metadata": {
        "id": "1894ebcd"
      },
      "source": [
        "### A simple perceptron\n",
        "Perceptron is a just one dense layer defined by:\n",
        "$y = \\sigma(Wx+b)$,\n",
        "where,\\\n",
        "$W$: weights\\\n",
        "$b$: bias\\\n",
        "$x$: input\\\n",
        "$\\sigma$: sigmoid activation\\\n",
        "$y$: output\\\n",
        "We can visualize the operation using a graph:\n",
        "![image.png](attachment:image.png)"
      ]
    },
    {
      "cell_type": "markdown",
      "id": "b52be0eb",
      "metadata": {
        "id": "b52be0eb"
      },
      "source": [
        "Tensor can flow through abstract types called layers. The layers are the fundamental blocks of neural networks.\\\n",
        "Layers implement common neural network operations, and are used to:\n",
        "\n",
        "* Update the weight\n",
        "* Compute losses\n",
        "* Define inter-layer connectivity\n",
        "\n",
        "We will define a `layer` to implement the perceptron."
      ]
    },
    {
      "cell_type": "code",
      "execution_count": null,
      "id": "91b8352f",
      "metadata": {
        "id": "91b8352f",
        "outputId": "f48a2ee3-533e-498c-a39b-14647306e667"
      },
      "outputs": [
        {
          "name": "stdout",
          "output_type": "stream",
          "text": [
            "[[0.26978594 0.45750415 0.6653695 ]]\n"
          ]
        }
      ],
      "source": [
        "# Defining a network layer\n",
        "# n_output_nodes: number of output nodes\n",
        "# input_shape: shape of input\n",
        "# x: input to the layer\n",
        "\n",
        "class MyDenseLayer(tf.keras.layers.Layer):\n",
        "    def __init__(self, n_output_nodes):\n",
        "        super(MyDenseLayer,self).__init__()\n",
        "        self.n_output_nodes = n_output_nodes\n",
        "\n",
        "    def build(self, input_shape):\n",
        "        d = int(input_shape[-1])\n",
        "        # Define and initialize paramters: a weight matrix W and bias b\n",
        "        # parameter initialization is random\n",
        "        self.W = self.add_weight(\"weight\", shape=[d, self.n_output_nodes]) # Note the dimensionality\n",
        "        self.b = self.add_weight(\"bias\", shape=[1, self.n_output_nodes]) # Note the dimensionality\n",
        "\n",
        "    def call(self, x):\n",
        "        z = tf.add(tf.matmul(x, self.W), self.b)\n",
        "        y = tf.sigmoid(z)\n",
        "        return y\n",
        "\n",
        "# Since layer parameters are initialized randomly, we will set a random seed for reproducibility\n",
        "tf.random.set_seed(1)\n",
        "layer = MyDenseLayer(3)\n",
        "layer.build((1,2))\n",
        "x_input = tf.constant([[1,2.]],shape=(1,2))\n",
        "y = layer.call(x_input)\n",
        "print(y.numpy())\n",
        ""
      ]
    },
    {
      "cell_type": "markdown",
      "id": "b04881d7",
      "metadata": {
        "id": "b04881d7"
      },
      "source": [
        "This was an example to construct our own single layer neural network. In practice we could use the layers defined by keras. For example a `Dense` layer. Also insted of using a single layer we will use a `Sequential` model from keras and a single `Dense` layer to define our network.\n",
        "With the Sequetial API we can readily create NN by stacking together the layers like building blocks."
      ]
    },
    {
      "cell_type": "code",
      "execution_count": null,
      "id": "23cfba52",
      "metadata": {
        "id": "23cfba52",
        "outputId": "15d7146e-bb69-4cb9-83a7-ebb21eee0717"
      },
      "outputs": [
        {
          "name": "stdout",
          "output_type": "stream",
          "text": [
            "tf.Tensor([[0.5607363  0.65668976 0.1249697 ]], shape=(1, 3), dtype=float32)\n"
          ]
        }
      ],
      "source": [
        "# inport relevant packages\n",
        "from tensorflow.keras import Sequential\n",
        "from tensorflow.keras.layers import Dense\n",
        "\n",
        "# define the number of outputs\n",
        "n_output_nodes = 3\n",
        "\n",
        "# define the model\n",
        "model = Sequential()\n",
        "\n",
        "# define the layer\n",
        "Dense_layer = Dense(units=n_output_nodes, activation='sigmoid')\n",
        "model.add(Dense_layer)\n",
        "\n",
        "x_input = tf.constant([[1,2.]],shape=(1,2))\n",
        "output = model(x_input)\n",
        "print(output)\n"
      ]
    },
    {
      "cell_type": "markdown",
      "id": "b2abb153",
      "metadata": {
        "id": "b2abb153"
      },
      "source": [
        "In addition to using the `Sequential` API we can also define neural network by directly subclassing the `Model` class. Using subclassing we can create a class of our model, an then define the forward pass through the network using just the `call` function. Subclassing gives the flexibility to make custom layers, custom training loops, custom activation function and custom models. We will now try to define the same model using subclassing rather than using `Sequential` model."
      ]
    },
    {
      "cell_type": "code",
      "execution_count": null,
      "id": "5d5b0c14",
      "metadata": {
        "scrolled": true,
        "id": "5d5b0c14",
        "outputId": "66c2d8de-3d09-458c-e58f-f1c7d4fe792a"
      },
      "outputs": [
        {
          "name": "stdout",
          "output_type": "stream",
          "text": [
            "tf.Tensor([[0.6504887  0.4782816  0.83736604]], shape=(1, 3), dtype=float32)\n"
          ]
        }
      ],
      "source": [
        "# Defining a model using subclassing\n",
        "from tensorflow.keras import Model\n",
        "from tensorflow.keras.layers import Dense\n",
        "\n",
        "class SubClassModel(tf.keras.Model):\n",
        "    # In __init__, we define the Model's layers\n",
        "    def __init__(self, n_ouput_nodes):\n",
        "        super(SubClassModel, self).__init__()\n",
        "        self.dense_layer = Dense(units=n_output_nodes, activation=\"sigmoid\")\n",
        "\n",
        "    # In the the call function we define the Model's forward pass.\n",
        "    def call(self, inputs):\n",
        "        return self.dense_layer(inputs)\n",
        "\n",
        "n_output_nodes = 3\n",
        "model = SubClassModel(n_output_nodes)\n",
        "x_input = tf.constant([[1,2.]], shape=(1,2))\n",
        "print(model.call(x_input))\n",
        ""
      ]
    },
    {
      "cell_type": "markdown",
      "id": "256e12c5",
      "metadata": {
        "id": "256e12c5"
      },
      "source": [
        "Subclassing can give lot of flexibility in defining custom models. For example we can pass a boolean argument to the call function to define seperate network behaviour, for example during training and inference."
      ]
    },
    {
      "cell_type": "markdown",
      "id": "5546699f",
      "metadata": {
        "id": "5546699f"
      },
      "source": [
        "For example, lets suppose for some instance we want the network to output the input without any pertubation. We define the boolean argument `isidentiy` to control this behaviour."
      ]
    },
    {
      "cell_type": "code",
      "execution_count": null,
      "id": "adec1e1e",
      "metadata": {
        "scrolled": true,
        "id": "adec1e1e",
        "outputId": "29433259-a591-44f5-8cde-196e0ca432c3"
      },
      "outputs": [
        {
          "ename": "NameError",
          "evalue": "name 'IdentityModel' is not defined",
          "output_type": "error",
          "traceback": [
            "\u001b[0;31m---------------------------------------------------------------------------\u001b[0m",
            "\u001b[0;31mNameError\u001b[0m                                 Traceback (most recent call last)",
            "Cell \u001b[0;32mIn [35], line 5\u001b[0m\n\u001b[1;32m      2\u001b[0m \u001b[38;5;28;01mfrom\u001b[39;00m \u001b[38;5;21;01mtensorflow\u001b[39;00m\u001b[38;5;21;01m.\u001b[39;00m\u001b[38;5;21;01mkeras\u001b[39;00m \u001b[38;5;28;01mimport\u001b[39;00m Model\n\u001b[1;32m      3\u001b[0m \u001b[38;5;28;01mfrom\u001b[39;00m \u001b[38;5;21;01mtensorflow\u001b[39;00m\u001b[38;5;21;01m.\u001b[39;00m\u001b[38;5;21;01mkeras\u001b[39;00m\u001b[38;5;21;01m.\u001b[39;00m\u001b[38;5;21;01mlayers\u001b[39;00m \u001b[38;5;28;01mimport\u001b[39;00m Dense\n\u001b[0;32m----> 5\u001b[0m \u001b[38;5;28;01mclass\u001b[39;00m \u001b[38;5;21;01mIdentityModel\u001b[39;00m(tf\u001b[38;5;241m.\u001b[39mkeras\u001b[38;5;241m.\u001b[39mModel):\n\u001b[1;32m      6\u001b[0m     \u001b[38;5;66;03m# As before, ini __init__ we define the Model's layers\u001b[39;00m\n\u001b[1;32m      7\u001b[0m     \u001b[38;5;66;03m# This part remains unchanged sicne we desire a forward pass model\u001b[39;00m\n\u001b[1;32m      8\u001b[0m     \u001b[38;5;28;01mdef\u001b[39;00m \u001b[38;5;21m__init__\u001b[39m(\u001b[38;5;28mself\u001b[39m, n_output_nodes):\n\u001b[1;32m      9\u001b[0m         \u001b[38;5;28msuper\u001b[39m(IndetityModel, \u001b[38;5;28mself\u001b[39m)\u001b[38;5;241m.\u001b[39m\u001b[38;5;21m__init__\u001b[39m()\n",
            "Cell \u001b[0;32mIn [35], line 19\u001b[0m, in \u001b[0;36mIdentityModel\u001b[0;34m()\u001b[0m\n\u001b[1;32m     16\u001b[0m     \u001b[38;5;28;01mreturn\u001b[39;00m x\n\u001b[1;32m     18\u001b[0m n_output_node \u001b[38;5;241m=\u001b[39m \u001b[38;5;241m3\u001b[39m\n\u001b[0;32m---> 19\u001b[0m model \u001b[38;5;241m=\u001b[39m \u001b[43mIdentityModel\u001b[49m(n_output_node)\n\u001b[1;32m     21\u001b[0m x_input \u001b[38;5;241m=\u001b[39m tf\u001b[38;5;241m.\u001b[39mconstant([[\u001b[38;5;241m1\u001b[39m,\u001b[38;5;241m2.\u001b[39m]], shape\u001b[38;5;241m=\u001b[39m(\u001b[38;5;241m1\u001b[39m,\u001b[38;5;241m2\u001b[39m))\n\u001b[1;32m     22\u001b[0m out_activate \u001b[38;5;241m=\u001b[39m model\u001b[38;5;241m.\u001b[39mcall(x_input, \u001b[38;5;28;01mTrue\u001b[39;00m)\n",
            "\u001b[0;31mNameError\u001b[0m: name 'IdentityModel' is not defined"
          ]
        }
      ],
      "source": [
        "#Defining a model with model using subclassing and specifuying custom behaviour\n",
        "from tensorflow.keras import Model\n",
        "from tensorflow.keras.layers import Dense\n",
        "\n",
        "class IdentityModel(tf.keras.Model):\n",
        "    # As before, ini __init__ we define the Model's layers\n",
        "    # This part remains unchanged sicne we desire a forward pass model\n",
        "    def __init__(self, n_output_nodes):\n",
        "        super(IndetityModel, self).__init__()\n",
        "        self.dense_layer = tf.keras.layers.Dense(n_output_nodes, activation='sigmoid')\n",
        "\n",
        "    def call(self, inputs, isidentity=False):\n",
        "        x = self.dense_layer(inputs)\n",
        "        if isidentity:\n",
        "            return inputs\n",
        "        return x\n",
        "\n",
        "    n_output_node = 3\n",
        "    model = IdentityModel(n_output_node)\n",
        "\n",
        "    x_input = tf.constant([[1,2.]], shape=(1,2))\n",
        "    out_activate = model.call(x_input, True)\n",
        "    out_identity = model.call(x_input, False)\n",
        "\n",
        ""
      ]
    },
    {
      "cell_type": "markdown",
      "id": "3336df2b",
      "metadata": {
        "id": "3336df2b"
      },
      "source": [
        "## 1.4 Automatic differentiation in TensorFlow\n",
        "Automatic differentiation is an important part of TensforFlow that allows us to calculate derivatives efficiently at constant time. Usually called 'auto-diff' and also has forward and reverse mode.\n",
        "\n",
        "An autodiff is the backbone for training with backpropogation. We will use TensforFlow GradientTape `tf.GradientTape` to trace the operation of computing grdients later.\n",
        "\n",
        "When we do forward pass all the forward pass operartions are recorded on the tepe. Then to compute the gradients the tape can be played backwards. By default the tape is discarded after it is played backwrds, hence we can only compute one gradient. However, we can create a `persistent` gradient tape to compute multiple gradients over the same computation."
      ]
    },
    {
      "cell_type": "markdown",
      "id": "d781b8f9",
      "metadata": {
        "id": "d781b8f9"
      },
      "source": [
        "Let us look at how we can compute gradients using GradientTape and access them from computation. We define a simple function $y =x^2$ and compute the gradient"
      ]
    },
    {
      "cell_type": "code",
      "execution_count": null,
      "id": "bb7be4d6",
      "metadata": {
        "id": "bb7be4d6"
      },
      "outputs": [],
      "source": [
        "### Using gradient tape to compute gradients\n",
        "\n",
        "# y = x^2\n",
        "# Example x = 3.0\n",
        "\n",
        "x = tf.Variable(3.0)\n",
        "\n",
        "# Initiate the gradient tape\n",
        "with tf.GradientTape() as tape:\n",
        "    # Define the function\n",
        "    y = x * x\n",
        "    # find the differentiation of y wrto x\n",
        "    dy_dx = tape.gradient(y,x)\n",
        "\n",
        "assert dy_dx.numpy() == 6.0\n"
      ]
    },
    {
      "cell_type": "markdown",
      "id": "0a7c8e69",
      "metadata": {
        "id": "0a7c8e69"
      },
      "source": [
        "In training neural networks, we use differentiation and stochastic gradient descent (SGD) to optimise a loss function. Now that we know how to use `GradientTape` to compute and access derivatives we can look at example where we use auto-diff and SGD to find the minimum of $L=(x-x_f)^2$. Here $x_f$ is a variable for the desired value we are trying to optimize and $L$ is the loss that we want to try to minimize.\n",
        "\n",
        "Analytically we know that $x_{min}=x_f$ will minimize the loss $L$"
      ]
    },
    {
      "cell_type": "code",
      "execution_count": null,
      "id": "084b4297",
      "metadata": {
        "id": "084b4297",
        "outputId": "c8d8c6cc-78a1-4f10-8154-de5b13d1bff2"
      },
      "outputs": [
        {
          "name": "stdout",
          "output_type": "stream",
          "text": [
            "initializing x= [[-0.92759573]]\n"
          ]
        },
        {
          "data": {
            "text/plain": [
              "Text(0, 0.5, 'x value')"
            ]
          },
          "execution_count": 57,
          "metadata": {},
          "output_type": "execute_result"
        },
        {
          "data": {
            "image/png": "[encoded data removed]",
            "text/plain": [
              "<Figure size 640x480 with 1 Axes>"
            ]
          },
          "metadata": {},
          "output_type": "display_data"
        }
      ],
      "source": [
        "### Function minimization with auto-diff and SGD ###\n",
        "\n",
        "# initialise x with a random variable\n",
        "x =  tf.Variable([tf.random.normal([1])])\n",
        "print(\"initializing x= {}\".format(x.numpy()))\n",
        "\n",
        "learning_rate = 1e-2 # learning rate for SGD\n",
        "history = []\n",
        "\n",
        "# The target value\n",
        "x_f = 6\n",
        "\n",
        "# We will perform SGD for a number of iterationa and in each iteration,\n",
        "# we will compute the loss, the gradient w.r.to x and the, do SGD update\n",
        "\n",
        "for i in range(500):\n",
        "    with tf.GradientTape() as tape:\n",
        "        loss = (x - x_f) * (x - x_f)\n",
        "        # compute the gradient of loss with respect to x\n",
        "        grad = tape.gradient(loss, x)\n",
        "\n",
        "        # SGD update based on learning rate\n",
        "        x_new = x - learning_rate * grad\n",
        "        # update the value of x\n",
        "        x.assign(x_new)\n",
        "        history.append(x.numpy()[0])\n",
        "\n",
        "#plot the evolution of x as we optimize\n",
        "plt.plot(history)\n",
        "plt.plot([0,500],[x_f,x_f])\n",
        "plt.legend(('Predicted', 'True'))\n",
        "plt.xlabel('Iteration')\n",
        "plt.ylabel('x value')\n"
      ]
    },
    {
      "cell_type": "code",
      "execution_count": null,
      "id": "fef58051",
      "metadata": {
        "id": "fef58051"
      },
      "outputs": [],
      "source": []
    }
  ],
  "metadata": {
    "kernelspec": {
      "display_name": "Python 3 (ipykernel)",
      "language": "python",
      "name": "python3"
    },
    "language_info": {
      "codemirror_mode": {
        "name": "ipython",
        "version": 3
      },
      "file_extension": ".py",
      "mimetype": "text/x-python",
      "name": "python",
      "nbconvert_exporter": "python",
      "pygments_lexer": "ipython3",
      "version": "3.8.10"
    },
    "colab": {
      "provenance": [],
      "toc_visible": true,
      "include_colab_link": true
    }
  },
  "nbformat": 4,
  "nbformat_minor": 5
}